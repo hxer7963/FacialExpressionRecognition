{
 "cells": [
  {
   "cell_type": "code",
   "execution_count": 38,
   "metadata": {
    "collapsed": false
   },
   "outputs": [],
   "source": [
    "import os\n",
    "from PIL import Image\n",
    "import csv\n",
    "import numpy as np\n",
    "\n",
    "base_dir = os.getcwd()\n",
    "dataset_dir = os.path.join(base_dir, 'dataset')\n",
    "fer2013_csv = os.path.join(dataset_dir, 'fer2013.csv')\n",
    "fer2013 = os.path.join(dataset_dir, 'fer2013')\n",
    "snips = os.path.join(base_dir, 'snips')\n",
    "\n",
    "# 0=Angry, 1=Disgust, 2=Fear, 3=Happy, 4=Sad, 5=Surprise, 6=Neutral\n",
    "digit2emotions = {'0': 'Angry', '1': 'Disgust', '2': 'Fear',\n",
    "                '3': 'Happy', '4': 'Sad', '5': 'Surprise',\n",
    "                '6': 'Neutral'}\n",
    "\n",
    "def pixel2image(pixels, dst_dir, fname, mode='L'):\n",
    "    if not os.path.exists(dst_dir):\n",
    "        os.makedirs(dst_dir)\n",
    "    img_path = os.path.join(dst_dir, fname)\n",
    "    im = Image.fromarray(pixels).convert(mode)\n",
    "    im.save(img_path)\n",
    "\n",
    "def csv2image():\n",
    "    with open(fer2013_csv) as f:\n",
    "        file = csv.reader(f)\n",
    "        next(file)\n",
    "        indices = 0        \n",
    "        for labels, pixels, tra_test in file:\n",
    "            if tra_test == 'Training' and labels == '2':\n",
    "                pixels = pixels.split()\n",
    "                pixels = np.asarray(pixels, dtype=np.uint8).reshape(48, 48)                   \n",
    "                subdir = os.path.join(fer2013, tra_test)\n",
    "                emotions = digit2emotions[labels]\n",
    "                dst_dir = os.path.join(subdir, emotions)\n",
    "                pixel2image(pixels, dst_dir, '{}.{}.jpg'.format(emotions, indices))\n",
    "                indices += 1\n",
    "        print(indices)"
   ]
  },
  {
   "cell_type": "code",
   "execution_count": 39,
   "metadata": {
    "collapsed": false
   },
   "outputs": [
    {
     "name": "stdout",
     "output_type": "stream",
     "text": [
      "4097\n"
     ]
    }
   ],
   "source": [
    "csv2image()"
   ]
  },
  {
   "cell_type": "code",
   "execution_count": 25,
   "metadata": {
    "collapsed": false
   },
   "outputs": [],
   "source": [
    "from matplotlib import pyplot as plt\n",
    "\n",
    "def plt_pie_of_train_dataset():\n",
    "    labels, num = [], []\n",
    "    for rt, dirs, files in os.walk(fer2013):\n",
    "        if not dirs:\n",
    "            path_dir = rt.split('\\\\')\n",
    "            if path_dir[-2] == 'Training': # count the number of each emotions\n",
    "                labels.append(path_dir[-1])\n",
    "                num.append(len(files))\n",
    "                \n",
    "      \n",
    "    print(dict(zip(labels, num)))\n",
    "    plt.pie(num, labels=labels, autopct='%1.1f%%')\n",
    "    plt.title('The ratio of each emotion in train dataset')\n",
    "    filename = 'The ratio of each emotion in train dataset.png'\n",
    "    plt.savefig(os.path.join(snips, filename))\n",
    "    plt.show()"
   ]
  },
  {
   "cell_type": "code",
   "execution_count": 26,
   "metadata": {
    "collapsed": false
   },
   "outputs": [
    {
     "name": "stdout",
     "output_type": "stream",
     "text": [
      "{'Happy': 7215, 'Surprise': 3171, 'Sad': 4830, 'Neutral': 4965, 'Disgust': 436, 'Angry': 3995, 'Fear': 4097}\n"
     ]
    },
    {
     "data": {
      "image/png": "[encoded data removed]",
      "text/plain": [
       "<matplotlib.figure.Figure at 0x863f160>"
      ]
     },
     "metadata": {},
     "output_type": "display_data"
    }
   ],
   "source": [
    "plt_pie_of_train_dataset()"
   ]
  },
  {
   "cell_type": "code",
   "execution_count": 27,
   "metadata": {
    "collapsed": true
   },
   "outputs": [],
   "source": [
    "from matplotlib import pyplot as plt\n",
    "import numpy as np\n",
    "\n",
    "def smooth_curve(points, factor=0.9):\n",
    "    smoothed_points = []\n",
    "    for point in points:\n",
    "        if smoothed_points:\n",
    "            previous = smoothed_points[-1]\n",
    "            smoothed_points.append(previous * factor + point * (1 - factor))\n",
    "        else:\n",
    "            smoothed_points.append(point)\n",
    "    return smoothed_points\n",
    "\n",
    "def plt_acc_loss(history, acc_title, loss_title, acc_filepath=None, loss_filepath=None):\n",
    "    \"\"\" plt the accuracy and the loss picture in `history`, and save \n",
    "    the figure to png directory with title name\"\"\"\n",
    "    if not acc_filepath:\n",
    "        acc_filepath = acc_title        \n",
    "    if not loss_filepath:\n",
    "        loss_filepath = loss_title\n",
    "    acc_filepath = os.path.join(snips, acc_filepath)\n",
    "    loss_filepath = os.path.join(snips, loss_filepath)\n",
    "        \n",
    "    acc = smooth_curve(history.history['acc'])\n",
    "    val_acc = smooth_curve(history.history['val_acc'])\n",
    "    loss = smooth_curve(history.history['loss'])\n",
    "    val_loss = smooth_curve(history.history['val_loss'])\n",
    "\n",
    "    epochs = range(1, len(acc) + 1)\n",
    "\n",
    "    plt.plot(epochs, acc, 'bo', label='Training acc')\n",
    "    plt.plot(epochs, val_acc, 'b', label='Validation acc')\n",
    "    plt.title(acc_title)\n",
    "    plt.legend()\n",
    "    plt.grid(True)\n",
    "    plt.savefig(acc_filepath)\n",
    "    plt.figure()\n",
    "\n",
    "    plt.plot(epochs, loss, 'bo', label='Training loss')\n",
    "    plt.plot(epochs, val_loss, 'b', label='Validation loss')\n",
    "    plt.title(loss_title)\n",
    "    plt.grid(True)\n",
    "    plt.legend()\n",
    "    plt.savefig(loss_filepath)\n",
    "    plt.show()"
   ]
  },
  {
   "cell_type": "code",
   "execution_count": 31,
   "metadata": {
    "collapsed": false
   },
   "outputs": [
    {
     "name": "stderr",
     "output_type": "stream",
     "text": [
      "Using TensorFlow backend.\n"
     ]
    }
   ],
   "source": [
    "from keras.preprocessing.image import ImageDataGenerator\n",
    "\n",
    "def image_data_generator(data_dir, data_augment=False, batch_size=20, target_size=(48, 48),\n",
    "                         color_mode='grayscale', class_mode='categorical', shuffle=True):\n",
    "    if data_augment:\n",
    "        datagen = ImageDataGenerator(rescale=1./255, \n",
    "                                    rotation_range=20,\n",
    "                                    width_shift_range=0.2,\n",
    "                                    height_shift_range=0.2,\n",
    "                                    shear_range=0.2,\n",
    "                                    zoom_range=0.2,\n",
    "                                    horizontal_flip=True)\n",
    "    else:\n",
    "        datagen = ImageDataGenerator(rescale=1./255)\n",
    "\n",
    "    generator = datagen.flow_from_directory(data_dir,\n",
    "                                            target_size=target_size,\n",
    "                                            color_mode=color_mode,\n",
    "                                            batch_size=batch_size,\n",
    "                                            shuffle=shuffle,\n",
    "                                            class_mode=class_mode)\n",
    "    return generator"
   ]
  },
  {
   "cell_type": "code",
   "execution_count": null,
   "metadata": {
    "collapsed": true
   },
   "outputs": [],
   "source": [
    "def evaluate_model(model=None, filepath=None):\n",
    "    if not model:\n",
    "        model = models.load_model(filepath)\n",
    "    test_generator = image_data_generator(test_dir, batch_size=1, shuffle=False)\n",
    "    \n",
    "    nb_samples = len(test_generator)\n",
    "    predict = model.evaluate_generator(test_generator, steps=nb_samples)\n",
    "    # predictions = model.predict_generator(test_generator, steps=nb_samples)\n",
    "    # val_preds = np.argmax(predictions, axis=-1)\n",
    "    # val_trues = validation_generator.classes\n",
    "    # cm = classification_report(val_trues, val_preds)    \n",
    "    return predict"
   ]
  },
  {
   "cell_type": "code",
   "execution_count": null,
   "metadata": {
    "collapsed": true
   },
   "outputs": [],
   "source": [
    "from sklearn.metrics import classification_report\n",
    "from keras.preprocessing.image import ImageDataGenerator\n",
    "from keras import models\n",
    "import numpy as np\n",
    "# from keras.utils.np_utils import categorical_probas_to_classes # ImportError?\n",
    "\n",
    "test_generator = image_data_generator(test_dir, shuffle=False, batch_size=1)\n",
    "\n",
    "def probas_to_classes(y_pred):\n",
    "    if len(y_pred.shape) > 1 and y_pred.shape[1] > 1:\n",
    "        return np.argmax(y_pred, axis=1)\n",
    "    return np.array([1 if p > 0.5 else 0 for p in y_pred])\n",
    "\n",
    "def evaluate_emotions_error_rate(model, sample_count=3589, batch_size=1):\n",
    "    \"\"\"evaluate the error rate of each emotion\"\"\"   \n",
    "    Y_test = np.zeros(shape=sample_count)\n",
    "    Y_pred = np.zeros(shape=sample_count)\n",
    "    i = 0\n",
    "    for X, labels_batch in test_generator:\n",
    "        # Y_pred[i] = model.predict_classes(X)\n",
    "        pred = model.predict(X)\n",
    "        Y_pred[i] = probas_to_classes(pred)\n",
    "        Y_test[i*batch_size: (i+1)*batch_size] = np.argmax(labels_batch, axis=1)  # convert one=hot encode to index\n",
    "        i += 1   \n",
    "        if i * batch_size >= 3589:\n",
    "            break\n",
    "    x_num, y_num = [0]*7, [0]*7    \n",
    "    for pred, test in zip(Y_pred, Y_test):\n",
    "        y_num[int(test)] += 1\n",
    "        if pred != test: # predict error\n",
    "            x_num[int(test)] += 1\n",
    "            \n",
    "    err = [i/j for i, j in zip(x_num, y_num)]\n",
    "    return err"
   ]
  },
  {
   "cell_type": "code",
   "execution_count": null,
   "metadata": {
    "collapsed": true
   },
   "outputs": [],
   "source": [
    "import pandas as pd\n",
    "import matplotlib.pyplot as plt\n",
    "\n",
    "def plt_emotions(err, title):\n",
    "    s = pd.Series(\n",
    "        err,\n",
    "        index = ['Angry', 'Disgust', 'Fear', 'Happy', 'Sad', 'Surprise', 'Neutral']\n",
    "    )\n",
    "\n",
    "    plt.title(title)\n",
    "    plt.ylabel('error rate')\n",
    "    plt.xlabel('emotions')\n",
    "\n",
    "    #Plot the data:\n",
    "    my_colors = 'rykgmbc' # red yellow black green .. blue ..    \n",
    "\n",
    "    s.plot(\n",
    "        kind='bar', \n",
    "        color=my_colors,\n",
    "    )\n",
    "    pngfile = os.path.join(snips, title+'.png')\n",
    "    plt.savefig(pngfile)\n",
    "    plt.show()"
   ]
  },
  {
   "cell_type": "code",
   "execution_count": null,
   "metadata": {
    "collapsed": true
   },
   "outputs": [],
   "source": [
    "def save_model(model, filename):\n",
    "    Models = os.path.join(os.getcwd(), 'Models')\n",
    "    filepath = os.path.join(Models, filename)\n",
    "    if filename.endswith('h5'):\n",
    "        model.save(filepath)\n",
    "    elif filename.endswith('json'):\n",
    "        model.to_json(filepath)\n",
    "\n",
    "from keras import models\n",
    "\n",
    "def load_model(filename):\n",
    "    Model = os.path.join(os.getcwd(), 'Models')\n",
    "    filepath = os.path.join(Model, filename)\n",
    "    model = None\n",
    "    if filename.endswith('h5'):\n",
    "        model = models.load_model(filepath)\n",
    "    elif filename.endswith('json'):\n",
    "        with open('model.json', 'r') as json_file:\n",
    "            loaded_model_json = json_file.read()           \n",
    "            model = models.model_from_json(loaded_model_json)\n",
    "    return model\n"
   ]
  },
  {
   "cell_type": "code",
   "execution_count": 2,
   "metadata": {
    "collapsed": false
   },
   "outputs": [],
   "source": [
    "import os\n",
    "import numpy as np\n",
    "from keras.preprocessing.image import ImageDataGenerator\n",
    "from keras.models import Model\n",
    "from keras.layers.core import Flatten\n",
    "\n",
    "\n",
    "def feature_extractor_to_svm(directory, model, core=Flatten, layer_name=None, batch_size=20):    \n",
    "    layer_output = -1\n",
    "    for layer in model.layers:\n",
    "        if layer_name:\n",
    "            if layer.name == layer_name:\n",
    "                layer_output = layer.output_shape[1]\n",
    "        else:\n",
    "            assert(isinstance(layer, Flatten))            \n",
    "            layer_name = layer.name\n",
    "            layer_output = layer.output_shape[1]\n",
    "            \n",
    "    intermediate_layer_model = Model(inputs=model.input,  # model.input\n",
    "                                     outputs=model.get_layer(layer_name).output)\n",
    "    \n",
    "    assert(layer_output != -1)\n",
    "    \n",
    "    generator = image_data_generator(directory, batch_size=batch_size)\n",
    "    if batch_size != 1:\n",
    "        sample_count = len(image_data_generator(directory, batch_size=1))\n",
    "    else:\n",
    "        sample_count = len(generator) \n",
    "    print(os.path.split(directory)[-1], ': ', sample_count)\n",
    "    \n",
    "    features = np.zeros(shape=(sample_count, layer_output))  # the shape of flatten layer output\n",
    "    labels = np.zeros(shape=(sample_count))\n",
    "    # without data generator    \n",
    "    i = 0\n",
    "    for inputs_batch, labels_batch in generator:        \n",
    "        intermediate_output = intermediate_layer_model.predict(inputs_batch)\n",
    "        features[i*batch_size: (i+1)*batch_size] = intermediate_output\n",
    "        labels[i*batch_size: (i+1)*batch_size] = np.argmax(labels_batch, axis=1)  # one hot encoding to scalar enconde\n",
    "        i += 1\n",
    "        if i * batch_size >= sample_count:\n",
    "            break\n",
    "    np.reshape(features, (sample_count, layer_output))\n",
    "    return features, labels"
   ]
  },
  {
   "cell_type": "code",
   "execution_count": null,
   "metadata": {
    "collapsed": true
   },
   "outputs": [],
   "source": []
  }
 ],
 "metadata": {
  "anaconda-cloud": {},
  "kernelspec": {
   "display_name": "Python [default]",
   "language": "python",
   "name": "python3"
  },
  "language_info": {
   "codemirror_mode": {
    "name": "ipython",
    "version": 3
   },
   "file_extension": ".py",
   "mimetype": "text/x-python",
   "name": "python",
   "nbconvert_exporter": "python",
   "pygments_lexer": "ipython3",
   "version": "3.5.4"
  }
 },
 "nbformat": 4,
 "nbformat_minor": 1
}
