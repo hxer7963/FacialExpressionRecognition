{
 "cells": [
  {
   "cell_type": "code",
   "execution_count": 1,
   "metadata": {
    "collapsed": false,
    "scrolled": true
   },
   "outputs": [
    {
     "name": "stderr",
     "output_type": "stream",
     "text": [
      "Using TensorFlow backend.\n"
     ]
    },
    {
     "name": "stdout",
     "output_type": "stream",
     "text": [
      "_________________________________________________________________\n",
      "Layer (type)                 Output Shape              Param #   \n",
      "=================================================================\n",
      "conv2d_4 (Conv2D)            (None, 48, 48, 3)         6         \n",
      "_________________________________________________________________\n",
      "vgg16 (Model)                (None, 1, 1, 512)         14714688  \n",
      "_________________________________________________________________\n",
      "flatten_2 (Flatten)          (None, 512)               0         \n",
      "_________________________________________________________________\n",
      "dense_3 (Dense)              (None, 1024)              525312    \n",
      "_________________________________________________________________\n",
      "dropout_2 (Dropout)          (None, 1024)              0         \n",
      "_________________________________________________________________\n",
      "dense_4 (Dense)              (None, 7)                 7175      \n",
      "=================================================================\n",
      "Total params: 15,247,181\n",
      "Trainable params: 15,247,181\n",
      "Non-trainable params: 0\n",
      "_________________________________________________________________\n"
     ]
    }
   ],
   "source": [
    "import Utils\n",
    "\n",
    "model = Utils.load_model('fine_tunning_vgg16_hit_65%.h5')\n",
    "model.summary()"
   ]
  },
  {
   "cell_type": "code",
   "execution_count": 2,
   "metadata": {
    "collapsed": false
   },
   "outputs": [
    {
     "name": "stdout",
     "output_type": "stream",
     "text": [
      "Found 3589 images belonging to 7 classes.\n",
      "the accuracy on test data: 0.6509\n"
     ]
    }
   ],
   "source": [
    "predict = Utils.evaluate_model(model)\n",
    "print('the accuracy on test data: %.4f' % (predict[1]))"
   ]
  },
  {
   "cell_type": "code",
   "execution_count": 3,
   "metadata": {
    "collapsed": false
   },
   "outputs": [
    {
     "name": "stdout",
     "output_type": "stream",
     "text": [
      "Found 28709 images belonging to 7 classes.\n",
      "Found 28709 images belonging to 7 classes.\n",
      "Training dataset:  28709\n",
      "Found 3589 images belonging to 7 classes.\n",
      "Found 3589 images belonging to 7 classes.\n",
      "PublicTest dataset:  3589\n",
      "Found 3589 images belonging to 7 classes.\n",
      "Found 3589 images belonging to 7 classes.\n",
      "PrivateTest dataset:  3589\n"
     ]
    }
   ],
   "source": [
    "layer_name = 'dense_3'\n",
    "train_features, train_labels = Utils.feature_extractor_to_svm(Utils.train_dir, model, layer_name=layer_name)\n",
    "validation_features, validation_labels = Utils.feature_extractor_to_svm(Utils.validation_dir, model, layer_name=layer_name)\n",
    "test_features, test_labels = Utils.feature_extractor_to_svm(Utils.test_dir, model, layer_name=layer_name)"
   ]
  },
  {
   "cell_type": "code",
   "execution_count": 4,
   "metadata": {
    "collapsed": false
   },
   "outputs": [
    {
     "name": "stdout",
     "output_type": "stream",
     "text": [
      "Start training SVM with rbf kernel funtion...\n",
      "svm on the fine-tunning VGG16 conv base hit 65.34%\n"
     ]
    }
   ],
   "source": [
    "clf, acc = Utils.svc(train_features, train_labels, test_features, test_labels)\n",
    "print('svm on the fine-tunning VGG16 conv base hit %2.2f%%' % (acc*100))"
   ]
  },
  {
   "cell_type": "code",
   "execution_count": 7,
   "metadata": {
    "collapsed": false
   },
   "outputs": [
    {
     "name": "stdout",
     "output_type": "stream",
     "text": [
      "0.653385344107\n"
     ]
    }
   ],
   "source": [
    "score = clf.score(test_features, test_labels)\n",
    "print(score)"
   ]
  },
  {
   "cell_type": "code",
   "execution_count": 8,
   "metadata": {
    "collapsed": false
   },
   "outputs": [
    {
     "name": "stdout",
     "output_type": "stream",
     "text": [
      "Found 3589 images belonging to 7 classes.\n"
     ]
    },
    {
     "data": {
      "image/png": "[encoded data removed]",
      "text/plain": [
       "<matplotlib.figure.Figure at 0x15b0dd68>"
      ]
     },
     "metadata": {},
     "output_type": "display_data"
    }
   ],
   "source": [
    "err = Utils.evaluate_emotions_error_rate(model)\n",
    "\n",
    "Utils.plt_emotions(err, 'svm on the top of fine-tuning VGG16', 'svm on the top of fine-tuning VGG16 hit 65.34%.png')"
   ]
  }
 ],
 "metadata": {
  "anaconda-cloud": {},
  "kernelspec": {
   "display_name": "Python [default]",
   "language": "python",
   "name": "python3"
  },
  "language_info": {
   "codemirror_mode": {
    "name": "ipython",
    "version": 3
   },
   "file_extension": ".py",
   "mimetype": "text/x-python",
   "name": "python",
   "nbconvert_exporter": "python",
   "pygments_lexer": "ipython3",
   "version": "3.5.4"
  }
 },
 "nbformat": 4,
 "nbformat_minor": 1
}
