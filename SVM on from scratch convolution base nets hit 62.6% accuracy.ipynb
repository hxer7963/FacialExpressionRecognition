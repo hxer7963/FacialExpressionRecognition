{
 "cells": [
  {
   "cell_type": "markdown",
   "metadata": {},
   "source": [
    "#### SVM on from scratch convolution base nets"
   ]
  },
  {
   "cell_type": "code",
   "execution_count": 2,
   "metadata": {
    "collapsed": true
   },
   "outputs": [
    {
     "name": "stdout",
     "output_type": "stream",
     "text": [
      "_________________________________________________________________\n",
      "Layer (type)                 Output Shape              Param #   \n",
      "=================================================================\n",
      "conv2d_11 (Conv2D)           (None, 46, 46, 32)        320       \n",
      "_________________________________________________________________\n",
      "batch_normalization_11 (Batc (None, 46, 46, 32)        128       \n",
      "_________________________________________________________________\n",
      "conv2d_12 (Conv2D)           (None, 44, 44, 32)        9248      \n",
      "_________________________________________________________________\n",
      "batch_normalization_12 (Batc (None, 44, 44, 32)        128       \n",
      "_________________________________________________________________\n",
      "max_pooling2d_7 (MaxPooling2 (None, 22, 22, 32)        0         \n",
      "_________________________________________________________________\n",
      "dropout_7 (Dropout)          (None, 22, 22, 32)        0         \n",
      "_________________________________________________________________\n",
      "conv2d_13 (Conv2D)           (None, 20, 20, 64)        18496     \n",
      "_________________________________________________________________\n",
      "batch_normalization_13 (Batc (None, 20, 20, 64)        256       \n",
      "_________________________________________________________________\n",
      "conv2d_14 (Conv2D)           (None, 18, 18, 64)        36928     \n",
      "_________________________________________________________________\n",
      "batch_normalization_14 (Batc (None, 18, 18, 64)        256       \n",
      "_________________________________________________________________\n",
      "max_pooling2d_8 (MaxPooling2 (None, 9, 9, 64)          0         \n",
      "_________________________________________________________________\n",
      "dropout_8 (Dropout)          (None, 9, 9, 64)          0         \n",
      "_________________________________________________________________\n",
      "conv2d_15 (Conv2D)           (None, 7, 7, 128)         73856     \n",
      "_________________________________________________________________\n",
      "batch_normalization_15 (Batc (None, 7, 7, 128)         512       \n",
      "_________________________________________________________________\n",
      "max_pooling2d_9 (MaxPooling2 (None, 3, 3, 128)         0         \n",
      "_________________________________________________________________\n",
      "flatten_3 (Flatten)          (None, 1152)              0         \n",
      "_________________________________________________________________\n",
      "dropout_9 (Dropout)          (None, 1152)              0         \n",
      "_________________________________________________________________\n",
      "dense_7 (Dense)              (None, 1024)              1180672   \n",
      "_________________________________________________________________\n",
      "dense_8 (Dense)              (None, 7)                 7175      \n",
      "=================================================================\n",
      "Total params: 1,327,975\n",
      "Trainable params: 1,327,335\n",
      "Non-trainable params: 640\n",
      "_________________________________________________________________\n"
     ]
    }
   ],
   "source": [
    "import os\n",
    "import Utils\n",
    "from keras import models\n",
    "\n",
    "h5filename = 'cnn from scratch with softmax 60epoch_dropout(0.5)_dense1024_hit(61.63%).h5'\n",
    "model = Utils.load_model(h5filename)\n",
    "model.summary()"
   ]
  },
  {
   "cell_type": "code",
   "execution_count": 4,
   "metadata": {
    "collapsed": false
   },
   "outputs": [
    {
     "name": "stdout",
     "output_type": "stream",
     "text": [
      "Found 3589 images belonging to 7 classes.\n",
      "the accuracy on test datadry without data augment hit 61.63%\n"
     ]
    }
   ],
   "source": [
    "score = Utils.evaluate_model(model)\n",
    "print('the accuracy on test datadry without data augment hit %2.2f%%' % (score[1] * 100))"
   ]
  },
  {
   "cell_type": "code",
   "execution_count": 8,
   "metadata": {
    "collapsed": false
   },
   "outputs": [
    {
     "name": "stdout",
     "output_type": "stream",
     "text": [
      "Found 28709 images belonging to 7 classes.\n",
      "Found 28709 images belonging to 7 classes.\n",
      "Training dataset:  28709\n",
      "Found 3589 images belonging to 7 classes.\n",
      "Found 3589 images belonging to 7 classes.\n",
      "PublicTest dataset:  3589\n",
      "Found 3589 images belonging to 7 classes.\n",
      "Found 3589 images belonging to 7 classes.\n",
      "PrivateTest dataset:  3589\n"
     ]
    }
   ],
   "source": [
    "layer_name = 'dense_7'\n",
    "train_features, train_labels = Utils.feature_extractor_to_svm(Utils.train_dir, model, layer_name=layer_name)\n",
    "validation_features, validation_labels = Utils.feature_extractor_to_svm(Utils.validation_dir, model, layer_name=layer_name)\n",
    "test_features, test_labels = Utils.feature_extractor_to_svm(Utils.test_dir, model, layer_name=layer_name)"
   ]
  },
  {
   "cell_type": "code",
   "execution_count": 9,
   "metadata": {
    "collapsed": true
   },
   "outputs": [],
   "source": [
    "from sklearn.svm import SVC\n",
    "\n",
    "def svc(traindata, trainlabel, testdata, testlabel):\n",
    "    print(\"feed softmax layer output activation to SVM with rbf kernel funtion...\")\n",
    "    clf = SVC(C=1.0, kernel=\"rbf\", cache_size=3000)\n",
    "    clf.fit(traindata, trainlabel)\n",
    "\n",
    "    pred_testlabel = clf.predict(testdata)\n",
    "    # print(pred_testlabel[:10], testlabel[:10])\n",
    "    num = len(pred_testlabel)\n",
    "    accuracy = len([1 for i in range(num) if testlabel[i]==pred_testlabel[i]])/float(num)    \n",
    "    return clf, accuracy"
   ]
  },
  {
   "cell_type": "code",
   "execution_count": 10,
   "metadata": {
    "collapsed": false
   },
   "outputs": [
    {
     "name": "stdout",
     "output_type": "stream",
     "text": [
      "feed softmax layer output activation to SVM with rbf kernel funtion...\n",
      "svm on the top of cnn(from scratch60epoch(0.6163) hit 62.11% accuracy:\n"
     ]
    }
   ],
   "source": [
    "clf, acc = svc(train_features, train_labels, validation_features, validation_labels)\n",
    "print(\"svm on the top of cnn(from scratch60epoch(0.6163) hit %.2f%% accuracy:\" % (acc * 100))"
   ]
  },
  {
   "cell_type": "code",
   "execution_count": 26,
   "metadata": {
    "collapsed": false
   },
   "outputs": [
    {
     "name": "stdout",
     "output_type": "stream",
     "text": [
      "0.623014767345\n"
     ]
    }
   ],
   "source": [
    "clf = joblib.load(filepath) \n",
    "score = clf.score(test_features, test_labels)\n",
    "print(score)"
   ]
  },
  {
   "cell_type": "code",
   "execution_count": 29,
   "metadata": {
    "collapsed": false
   },
   "outputs": [
    {
     "data": {
      "text/plain": [
       "['L:\\\\FacialExpressionRecognition\\\\Facial Expression\\\\Models\\\\svm with dense layer output(cnn from scratch 60epoch_61.63%) hit 62.30% accuracy.pkl']"
      ]
     },
     "execution_count": 29,
     "metadata": {},
     "output_type": "execute_result"
    }
   ],
   "source": [
    "from sklearn.externals import joblib\n",
    "\n",
    "filename = 'svm with dense layer output(cnn from scratch 60epoch_61.63%) hit 62.30% accuracy.pkl'\n",
    "filepath = os.path.join(Utils.Models, filename)\n",
    "joblib.dump(clf, filepath) "
   ]
  },
  {
   "cell_type": "code",
   "execution_count": 1,
   "metadata": {
    "collapsed": false
   },
   "outputs": [
    {
     "name": "stderr",
     "output_type": "stream",
     "text": [
      "Using TensorFlow backend.\n"
     ]
    },
    {
     "name": "stdout",
     "output_type": "stream",
     "text": [
      "Found 3589 images belonging to 7 classes.\n",
      "Found 3589 images belonging to 7 classes.\n",
      "PrivateTest dataset:  3589\n"
     ]
    }
   ],
   "source": [
    "import os\n",
    "import Utils\n",
    "from sklearn.externals import joblib\n",
    "\n",
    "layer_name = 'dense_7'\n",
    "modelfile = 'cnn from scratch with softmax 60epoch_dropout(0.5)_dense1024_hit(61.63%).h5'\n",
    "modelpath = os.path.join(Utils.Models, modelfile)\n",
    "model = Utils.load_model(modelpath)\n",
    "test_features, test_labels = Utils.feature_extractor_to_svm(Utils.test_dir, model, layer_name=layer_name)\n",
    "\n",
    "svmfile = 'svm with dense layer output(cnn from scratch 60epoch_61.63%) hit 62.30% accuracy.pkl'\n",
    "filepath = os.path.join(Utils.Models, svmfile)\n",
    "clf = joblib.load(filepath)\n",
    "\n",
    "err = Utils.evaluate_svm_model_emotions_error_rate(clf, test_features, test_labels)"
   ]
  },
  {
   "cell_type": "code",
   "execution_count": 3,
   "metadata": {
    "collapsed": false
   },
   "outputs": [
    {
     "data": {
      "image/png": "[encoded data removed]",
      "text/plain": [
       "<matplotlib.figure.Figure at 0x56224be0>"
      ]
     },
     "metadata": {},
     "output_type": "display_data"
    }
   ],
   "source": [
    "Utils.plt_emotions(err, 'svm on the top of cnn(from scratch hit61.63%)')"
   ]
  },
  {
   "cell_type": "code",
   "execution_count": null,
   "metadata": {
    "collapsed": true
   },
   "outputs": [],
   "source": []
  }
 ],
 "metadata": {
  "anaconda-cloud": {},
  "kernelspec": {
   "display_name": "Python [conda root]",
   "language": "python",
   "name": "conda-root-py"
  },
  "language_info": {
   "codemirror_mode": {
    "name": "ipython",
    "version": 3
   },
   "file_extension": ".py",
   "mimetype": "text/x-python",
   "name": "python",
   "nbconvert_exporter": "python",
   "pygments_lexer": "ipython3",
   "version": "3.5.4"
  }
 },
 "nbformat": 4,
 "nbformat_minor": 1
}
