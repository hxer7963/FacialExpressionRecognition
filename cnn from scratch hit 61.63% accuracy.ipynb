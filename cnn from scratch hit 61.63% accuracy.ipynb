{
 "cells": [
  {
   "cell_type": "code",
   "execution_count": 1,
   "metadata": {
    "collapsed": true
   },
   "outputs": [
    {
     "name": "stderr",
     "output_type": "stream",
     "text": [
      "Using TensorFlow backend.\n"
     ]
    },
    {
     "name": "stdout",
     "output_type": "stream",
     "text": [
      "_________________________________________________________________\n",
      "Layer (type)                 Output Shape              Param #   \n",
      "=================================================================\n",
      "conv2d_1 (Conv2D)            (None, 46, 46, 32)        320       \n",
      "_________________________________________________________________\n",
      "batch_normalization_1 (Batch (None, 46, 46, 32)        128       \n",
      "_________________________________________________________________\n",
      "conv2d_2 (Conv2D)            (None, 44, 44, 32)        9248      \n",
      "_________________________________________________________________\n",
      "batch_normalization_2 (Batch (None, 44, 44, 32)        128       \n",
      "_________________________________________________________________\n",
      "max_pooling2d_1 (MaxPooling2 (None, 22, 22, 32)        0         \n",
      "_________________________________________________________________\n",
      "dropout_1 (Dropout)          (None, 22, 22, 32)        0         \n",
      "_________________________________________________________________\n",
      "conv2d_3 (Conv2D)            (None, 20, 20, 64)        18496     \n",
      "_________________________________________________________________\n",
      "batch_normalization_3 (Batch (None, 20, 20, 64)        256       \n",
      "_________________________________________________________________\n",
      "conv2d_4 (Conv2D)            (None, 18, 18, 64)        36928     \n",
      "_________________________________________________________________\n",
      "batch_normalization_4 (Batch (None, 18, 18, 64)        256       \n",
      "_________________________________________________________________\n",
      "max_pooling2d_2 (MaxPooling2 (None, 9, 9, 64)          0         \n",
      "_________________________________________________________________\n",
      "dropout_2 (Dropout)          (None, 9, 9, 64)          0         \n",
      "_________________________________________________________________\n",
      "conv2d_5 (Conv2D)            (None, 7, 7, 128)         73856     \n",
      "_________________________________________________________________\n",
      "batch_normalization_5 (Batch (None, 7, 7, 128)         512       \n",
      "_________________________________________________________________\n",
      "max_pooling2d_3 (MaxPooling2 (None, 3, 3, 128)         0         \n",
      "_________________________________________________________________\n",
      "flatten_1 (Flatten)          (None, 1152)              0         \n",
      "_________________________________________________________________\n",
      "dropout_3 (Dropout)          (None, 1152)              0         \n",
      "_________________________________________________________________\n",
      "dense_1 (Dense)              (None, 1024)              1180672   \n",
      "_________________________________________________________________\n",
      "dense_2 (Dense)              (None, 7)                 7175      \n",
      "=================================================================\n",
      "Total params: 1,327,975\n",
      "Trainable params: 1,327,335\n",
      "Non-trainable params: 640\n",
      "_________________________________________________________________\n"
     ]
    }
   ],
   "source": [
    "from keras import layers\n",
    "from keras import models\n",
    "from keras.layers.normalization import BatchNormalization\n",
    "from keras.layers import Activation\n",
    "from keras.layers.advanced_activations import PReLU\n",
    "\n",
    "# act = PReLU(init='zero', weights=None)\n",
    "# conv  block 1\n",
    "model = models.Sequential()\n",
    "model.add(layers.Conv2D(32, (3, 3), input_shape=(48, 48, 1), activation='relu'))\n",
    "model.add(BatchNormalization(axis=-1))\n",
    "model.add(layers.Conv2D(32, (3, 3), activation='relu'))\n",
    "model.add(BatchNormalization(axis=-1))\n",
    "model.add(layers.MaxPooling2D((2, 2)))\n",
    "model.add(layers.Dropout(0.25))\n",
    "# conv  block 2\n",
    "model.add(layers.Conv2D(64, (3, 3), activation='relu'))\n",
    "model.add(BatchNormalization(axis=-1))\n",
    "model.add(layers.Conv2D(64, (3, 3), activation='relu'))      \n",
    "model.add(BatchNormalization(axis=-1))\n",
    "model.add(layers.MaxPooling2D((2, 2)))\n",
    "model.add(layers.Dropout(0.25))\n",
    "# conv  block 3\n",
    "model.add(layers.Conv2D(128, (3, 3), activation='relu'))\n",
    "model.add(BatchNormalization(axis=-1))\n",
    "model.add(layers.MaxPooling2D((2, 2)))\n",
    "\n",
    "model.add(layers.Flatten())\n",
    "model.add(layers.Dropout(0.5))\n",
    "model.add(layers.Dense(1024, activation='relu'))\n",
    "model.add(layers.Dense(7, activation='softmax'))\n",
    "model.summary()"
   ]
  },
  {
   "cell_type": "code",
   "execution_count": 5,
   "metadata": {
    "collapsed": true
   },
   "outputs": [],
   "source": [
    "from keras.preprocessing.image import ImageDataGenerator\n",
    "\n",
    "def image_data_generator(data_dir, data_augment=False, batch_size=20, target_size=(48, 48),\n",
    "                         color_mode='grayscale', class_mode='categorical', shuffle=True):\n",
    "    if data_augment:\n",
    "        datagen = ImageDataGenerator(rescale=1./255, \n",
    "                                    rotation_range=20,\n",
    "                                    width_shift_range=0.2,\n",
    "                                    height_shift_range=0.2,\n",
    "                                    shear_range=0.2,\n",
    "                                    zoom_range=0.2,\n",
    "                                    horizontal_flip=True)\n",
    "    else:\n",
    "        datagen = ImageDataGenerator(rescale=1./255)\n",
    "\n",
    "    generator = datagen.flow_from_directory(data_dir,\n",
    "                                            target_size=target_size,\n",
    "                                            color_mode=color_mode,\n",
    "                                            batch_size=batch_size,\n",
    "                                            shuffle=shuffle,\n",
    "                                            class_mode=class_mode)\n",
    "    return generator"
   ]
  },
  {
   "cell_type": "code",
   "execution_count": 3,
   "metadata": {
    "collapsed": true
   },
   "outputs": [],
   "source": [
    "from keras import optimizers\n",
    "\n",
    "model.compile(loss='categorical_crossentropy',\n",
    "             optimizer=optimizers.RMSprop(lr=1e-4, decay=1e-6),\n",
    "             metrics=['acc'])"
   ]
  },
  {
   "cell_type": "markdown",
   "metadata": {},
   "source": [
    "note: Because I stop the last 7 epoch training, so the first accuracy can hit 54.61%, but the architech did not change."
   ]
  },
  {
   "cell_type": "code",
   "execution_count": 8,
   "metadata": {
    "collapsed": false
   },
   "outputs": [
    {
     "name": "stdout",
     "output_type": "stream",
     "text": [
      "Found 28709 images belonging to 7 classes.\n",
      "Found 3589 images belonging to 7 classes.\n",
      "Epoch 1/40\n",
      "1400/1400 [==============================] - 78s 56ms/step - loss: 1.2425 - acc: 0.5339 - val_loss: 1.2389 - val_acc: 0.5461\n",
      "Epoch 2/40\n",
      "1400/1400 [==============================] - 74s 53ms/step - loss: 1.2340 - acc: 0.5390 - val_loss: 1.2201 - val_acc: 0.5489\n",
      "Epoch 3/40\n",
      "1400/1400 [==============================] - 75s 54ms/step - loss: 1.2113 - acc: 0.5491 - val_loss: 1.2497 - val_acc: 0.5366\n",
      "Epoch 4/40\n",
      "1400/1400 [==============================] - 77s 55ms/step - loss: 1.1993 - acc: 0.5537 - val_loss: 1.1985 - val_acc: 0.5637\n",
      "Epoch 5/40\n",
      "1400/1400 [==============================] - 78s 56ms/step - loss: 1.1829 - acc: 0.5605 - val_loss: 1.2064 - val_acc: 0.5547\n",
      "Epoch 6/40\n",
      "1400/1400 [==============================] - 80s 57ms/step - loss: 1.1695 - acc: 0.5635 - val_loss: 1.1937 - val_acc: 0.5626\n",
      "Epoch 7/40\n",
      "1400/1400 [==============================] - 78s 56ms/step - loss: 1.1545 - acc: 0.5666 - val_loss: 1.2333 - val_acc: 0.5564\n",
      "Epoch 8/40\n",
      "1400/1400 [==============================] - 76s 54ms/step - loss: 1.1456 - acc: 0.5723 - val_loss: 1.2141 - val_acc: 0.5584\n",
      "Epoch 9/40\n",
      "1400/1400 [==============================] - 78s 56ms/step - loss: 1.1325 - acc: 0.5789 - val_loss: 1.1665 - val_acc: 0.5687\n",
      "Epoch 10/40\n",
      "1400/1400 [==============================] - 78s 56ms/step - loss: 1.1236 - acc: 0.5824 - val_loss: 1.1840 - val_acc: 0.5740\n",
      "Epoch 11/40\n",
      "1400/1400 [==============================] - 79s 56ms/step - loss: 1.1100 - acc: 0.5860 - val_loss: 1.1591 - val_acc: 0.5771\n",
      "Epoch 12/40\n",
      "1400/1400 [==============================] - 78s 55ms/step - loss: 1.0924 - acc: 0.5929 - val_loss: 1.2348 - val_acc: 0.5553\n",
      "Epoch 13/40\n",
      "1400/1400 [==============================] - 79s 56ms/step - loss: 1.0983 - acc: 0.5923 - val_loss: 1.1638 - val_acc: 0.5863\n",
      "Epoch 14/40\n",
      "1400/1400 [==============================] - 79s 56ms/step - loss: 1.0785 - acc: 0.5986 - val_loss: 1.1790 - val_acc: 0.5693\n",
      "Epoch 15/40\n",
      "1400/1400 [==============================] - 79s 56ms/step - loss: 1.0651 - acc: 0.6015 - val_loss: 1.1843 - val_acc: 0.5698\n",
      "Epoch 16/40\n",
      "1400/1400 [==============================] - 79s 56ms/step - loss: 1.0544 - acc: 0.6136 - val_loss: 1.1512 - val_acc: 0.5818\n",
      "Epoch 17/40\n",
      "1400/1400 [==============================] - 79s 56ms/step - loss: 1.0518 - acc: 0.6077 - val_loss: 1.2124 - val_acc: 0.5620\n",
      "Epoch 18/40\n",
      "1400/1400 [==============================] - 79s 56ms/step - loss: 1.0354 - acc: 0.6179 - val_loss: 1.1719 - val_acc: 0.5855\n",
      "Epoch 19/40\n",
      "1400/1400 [==============================] - 78s 56ms/step - loss: 1.0200 - acc: 0.6193 - val_loss: 1.1614 - val_acc: 0.5807\n",
      "Epoch 20/40\n",
      "1400/1400 [==============================] - 78s 56ms/step - loss: 1.0230 - acc: 0.6216 - val_loss: 1.1635 - val_acc: 0.5821\n",
      "Epoch 21/40\n",
      "1400/1400 [==============================] - 79s 56ms/step - loss: 1.0111 - acc: 0.6263 - val_loss: 1.1796 - val_acc: 0.5760\n",
      "Epoch 22/40\n",
      "1400/1400 [==============================] - 78s 56ms/step - loss: 0.9963 - acc: 0.6304 - val_loss: 1.1497 - val_acc: 0.5969\n",
      "Epoch 23/40\n",
      "1400/1400 [==============================] - 77s 55ms/step - loss: 0.9862 - acc: 0.6350 - val_loss: 1.1944 - val_acc: 0.5707\n",
      "Epoch 24/40\n",
      "1400/1400 [==============================] - 79s 56ms/step - loss: 0.9862 - acc: 0.6373 - val_loss: 1.1565 - val_acc: 0.5955\n",
      "Epoch 25/40\n",
      "1400/1400 [==============================] - 79s 56ms/step - loss: 0.9726 - acc: 0.6397 - val_loss: 1.1521 - val_acc: 0.5944\n",
      "Epoch 26/40\n",
      "1400/1400 [==============================] - 79s 57ms/step - loss: 0.9533 - acc: 0.6451 - val_loss: 1.1852 - val_acc: 0.5877\n",
      "Epoch 27/40\n",
      "1400/1400 [==============================] - 79s 56ms/step - loss: 0.9571 - acc: 0.6441 - val_loss: 1.1733 - val_acc: 0.5804\n",
      "Epoch 28/40\n",
      "1400/1400 [==============================] - 71s 51ms/step - loss: 0.9406 - acc: 0.6527 - val_loss: 1.1495 - val_acc: 0.5846\n",
      "Epoch 29/40\n",
      "1400/1400 [==============================] - 71s 51ms/step - loss: 0.9242 - acc: 0.6595 - val_loss: 1.1461 - val_acc: 0.5941\n",
      "Epoch 30/40\n",
      "1400/1400 [==============================] - 73s 52ms/step - loss: 0.9320 - acc: 0.6580 - val_loss: 1.1559 - val_acc: 0.5899\n",
      "Epoch 31/40\n",
      "1400/1400 [==============================] - 78s 55ms/step - loss: 0.9130 - acc: 0.6646 - val_loss: 1.1523 - val_acc: 0.5955\n",
      "Epoch 32/40\n",
      "1400/1400 [==============================] - 78s 56ms/step - loss: 0.9101 - acc: 0.6653 - val_loss: 1.1626 - val_acc: 0.5930\n",
      "Epoch 33/40\n",
      "1400/1400 [==============================] - 77s 55ms/step - loss: 0.8991 - acc: 0.6672 - val_loss: 1.1417 - val_acc: 0.5908\n",
      "Epoch 34/40\n",
      "1400/1400 [==============================] - 76s 54ms/step - loss: 0.8876 - acc: 0.6749 - val_loss: 1.1751 - val_acc: 0.5779\n",
      "Epoch 35/40\n",
      "1400/1400 [==============================] - 77s 55ms/step - loss: 0.8784 - acc: 0.6756 - val_loss: 1.1766 - val_acc: 0.5774\n",
      "Epoch 36/40\n",
      "1400/1400 [==============================] - 78s 56ms/step - loss: 0.8657 - acc: 0.6809 - val_loss: 1.1800 - val_acc: 0.5888\n",
      "Epoch 37/40\n",
      "1400/1400 [==============================] - 77s 55ms/step - loss: 0.8673 - acc: 0.6829 - val_loss: 1.1392 - val_acc: 0.5911\n",
      "Epoch 38/40\n",
      "1400/1400 [==============================] - 79s 56ms/step - loss: 0.8603 - acc: 0.6852 - val_loss: 1.1575 - val_acc: 0.5930\n",
      "Epoch 39/40\n",
      "1400/1400 [==============================] - 77s 55ms/step - loss: 0.8371 - acc: 0.6910 - val_loss: 1.1695 - val_acc: 0.5950\n",
      "Epoch 40/40\n",
      "1400/1400 [==============================] - 78s 56ms/step - loss: 0.8382 - acc: 0.6915 - val_loss: 1.1672 - val_acc: 0.5838\n"
     ]
    }
   ],
   "source": [
    "import os\n",
    "base_dir = os.getcwd()\n",
    "dataset_dir = os.path.join(base_dir, 'dataset')\n",
    "fer2013 = os.path.join(dataset_dir, 'fer2013')\n",
    "snips = os.path.join(base_dir, 'snips')\n",
    "\n",
    "train_dir = os.path.join(fer2013, 'Training')\n",
    "validation_dir = os.path.join(fer2013, 'PublicTest')\n",
    "test_dir = os.path.join(fer2013, 'PrivateTest')\n",
    "\n",
    "train_generator = image_data_generator(train_dir)\n",
    "validation_generator = image_data_generator(validation_dir)\n",
    "# if you relaunch the model to train, you should recompile the model before launch it!\n",
    "history = model.fit_generator(train_generator,\n",
    "                   steps_per_epoch=1400,\n",
    "                   epochs=40,\n",
    "                   validation_data=validation_generator,\n",
    "                   validation_steps=179)"
   ]
  },
  {
   "cell_type": "code",
   "execution_count": 16,
   "metadata": {
    "collapsed": false
   },
   "outputs": [],
   "source": [
    "def evaluate_model(model=None, filepath=None):\n",
    "    if not model:\n",
    "        model = models.load_model(filepath)\n",
    "    test_generator = image_data_generator(test_dir, batch_size=1, shuffle=False)\n",
    "    \n",
    "    nb_samples = len(test_generator)\n",
    "    predict = model.evaluate_generator(test_generator, steps=nb_samples)\n",
    "    # predictions = model.predict_generator(test_generator, steps=nb_samples)\n",
    "    # val_preds = np.argmax(predictions, axis=-1)\n",
    "    # val_trues = validation_generator.classes\n",
    "    # cm = classification_report(val_trues, val_preds)    \n",
    "    return predict"
   ]
  },
  {
   "cell_type": "code",
   "execution_count": 17,
   "metadata": {
    "collapsed": false
   },
   "outputs": [
    {
     "name": "stdout",
     "output_type": "stream",
     "text": [
      "Found 3589 images belonging to 7 classes.\n",
      "the accuracy of test data from scratch without data augment: 0.606018389524\n"
     ]
    }
   ],
   "source": [
    "predict = evaluate_model(model=model)\n",
    "print('the accuracy of test data from scratch without data augment:', predict[1])"
   ]
  },
  {
   "cell_type": "code",
   "execution_count": 23,
   "metadata": {
    "collapsed": true
   },
   "outputs": [],
   "source": [
    "from matplotlib import pyplot as plt\n",
    "import numpy as np\n",
    "\n",
    "def smooth_curve(points, factor=0.9):\n",
    "    smoothed_points = []\n",
    "    for point in points:\n",
    "        if smoothed_points:\n",
    "            previous = smoothed_points[-1]\n",
    "            smoothed_points.append(previous * factor + point * (1 - factor))\n",
    "        else:\n",
    "            smoothed_points.append(point)\n",
    "    return smoothed_points\n",
    "\n",
    "def plt_acc_loss(history, acc_title, loss_title, acc_filepath=None, loss_filepath=None):\n",
    "    \"\"\" plt the accuracy and the loss picture in `history`, and save \n",
    "    the figure to png directory with title name\"\"\"\n",
    "    if not acc_filepath:\n",
    "        acc_filepath = acc_title        \n",
    "    if not loss_filepath:\n",
    "        loss_filepath = loss_title\n",
    "    acc_filepath = os.path.join(snips, acc_filepath)\n",
    "    loss_filepath = os.path.join(snips, loss_filepath)\n",
    "        \n",
    "    acc = smooth_curve(history.history['acc'])\n",
    "    val_acc = smooth_curve(history.history['val_acc'])\n",
    "    loss = smooth_curve(history.history['loss'])\n",
    "    val_loss = smooth_curve(history.history['val_loss'])\n",
    "\n",
    "    epochs = range(1, len(acc) + 1)\n",
    "\n",
    "    plt.plot(epochs, acc, 'bo', label='Training acc')\n",
    "    plt.plot(epochs, val_acc, 'b', label='Validation acc')\n",
    "    plt.title(acc_title)\n",
    "    plt.legend()\n",
    "    plt.grid(True)\n",
    "    plt.savefig(acc_filepath)\n",
    "    plt.figure()\n",
    "\n",
    "    plt.plot(epochs, loss, 'bo', label='Training loss')\n",
    "    plt.plot(epochs, val_loss, 'b', label='Validation loss')\n",
    "    plt.title(loss_title)\n",
    "    plt.grid(True)\n",
    "    plt.legend()\n",
    "    plt.savefig(loss_filepath)\n",
    "    plt.show()"
   ]
  },
  {
   "cell_type": "code",
   "execution_count": 24,
   "metadata": {
    "collapsed": false
   },
   "outputs": [
    {
     "data": {
      "image/png": "[encoded data removed]",
      "text/plain": [
       "<matplotlib.figure.Figure at 0x7283bac8>"
      ]
     },
     "metadata": {},
     "output_type": "display_data"
    },
    {
     "data": {
      "image/png": "[encoded data removed]",
      "text/plain": [
       "<matplotlib.figure.Figure at 0x582cb828>"
      ]
     },
     "metadata": {},
     "output_type": "display_data"
    }
   ],
   "source": [
    "plt_acc_loss(history, 'cnn_from_scratch_accuracy', 'cnn_from_scratch_loss', \n",
    "             'cnn_from_scratch_accuracy(60.60%).png', 'cnn_from_scratch_loss(60.60%).png')"
   ]
  },
  {
   "cell_type": "code",
   "execution_count": 26,
   "metadata": {
    "collapsed": false
   },
   "outputs": [
    {
     "name": "stdout",
     "output_type": "stream",
     "text": [
      "Found 3589 images belonging to 7 classes.\n"
     ]
    }
   ],
   "source": [
    "from sklearn.metrics import classification_report\n",
    "from keras.preprocessing.image import ImageDataGenerator\n",
    "from keras import models\n",
    "import numpy as np\n",
    "# from keras.utils.np_utils import categorical_probas_to_classes # ImportError?\n",
    "\n",
    "test_generator = image_data_generator(test_dir, shuffle=False, batch_size=1)\n",
    "\n",
    "def probas_to_classes(y_pred):\n",
    "    if len(y_pred.shape) > 1 and y_pred.shape[1] > 1:\n",
    "        return np.argmax(y_pred, axis=1)\n",
    "    return np.array([1 if p > 0.5 else 0 for p in y_pred])\n",
    "\n",
    "def evaluate_emotions_error_rate(model, sample_count=3589, batch_size=1):\n",
    "    \"\"\"evaluate the error rate of each emotion\"\"\"   \n",
    "    Y_test = np.zeros(shape=sample_count)\n",
    "    Y_pred = np.zeros(shape=sample_count)\n",
    "    i = 0\n",
    "    for X, labels_batch in test_generator:\n",
    "        # Y_pred[i] = model.predict_classes(X)\n",
    "        pred = model.predict(X)\n",
    "        Y_pred[i] = probas_to_classes(pred)\n",
    "        Y_test[i*batch_size: (i+1)*batch_size] = np.argmax(labels_batch, axis=1)  # convert one=hot encode to index\n",
    "        i += 1   \n",
    "        if i * batch_size >= 3589:\n",
    "            break\n",
    "    x_num, y_num = [0]*7, [0]*7    \n",
    "    for pred, test in zip(Y_pred, Y_test):\n",
    "        y_num[int(test)] += 1\n",
    "        if pred != test: # predict error\n",
    "            x_num[int(test)] += 1\n",
    "            \n",
    "    err = [i/j for i, j in zip(x_num, y_num)]\n",
    "    return err"
   ]
  },
  {
   "cell_type": "code",
   "execution_count": 27,
   "metadata": {
    "collapsed": true
   },
   "outputs": [],
   "source": [
    "err_emotions = evaluate_emotions_error_rate(model)"
   ]
  },
  {
   "cell_type": "code",
   "execution_count": 28,
   "metadata": {
    "collapsed": true
   },
   "outputs": [],
   "source": [
    "import pandas as pd\n",
    "import matplotlib.pyplot as plt\n",
    "\n",
    "def plt_emotions(err, title):\n",
    "    s = pd.Series(\n",
    "        err,\n",
    "        index = ['Angry', 'Disgust', 'Fear', 'Happy', 'Sad', 'Surprise', 'Neutral']\n",
    "    )\n",
    "\n",
    "    plt.title(title)\n",
    "    plt.ylabel('error rate')\n",
    "    plt.xlabel('emotions')\n",
    "\n",
    "    #Plot the data:\n",
    "    my_colors = 'rykgmbc' # red yellow black green .. blue ..    \n",
    "\n",
    "    s.plot(\n",
    "        kind='bar', \n",
    "        color=my_colors,\n",
    "    )\n",
    "    pngfile = os.path.join(snips, title+'.png')\n",
    "    plt.savefig(pngfile)\n",
    "    plt.show()"
   ]
  },
  {
   "cell_type": "code",
   "execution_count": 31,
   "metadata": {
    "collapsed": false
   },
   "outputs": [
    {
     "data": {
      "image/png": "[encoded data removed]",
      "text/plain": [
       "<matplotlib.figure.Figure at 0x650bc940>"
      ]
     },
     "metadata": {},
     "output_type": "display_data"
    }
   ],
   "source": [
    "plt_emotions(err_emotions, 'error rate of each emotions(cnn from scratch hit %.2f%% acc)' % (predict[1] * 100))"
   ]
  },
  {
   "cell_type": "code",
   "execution_count": 49,
   "metadata": {
    "collapsed": true
   },
   "outputs": [],
   "source": [
    "def save_model(model, filename):\n",
    "    Models = os.path.join(os.getcwd(), 'Models')\n",
    "    filepath = os.path.join(Models, filename)\n",
    "    if filename.endswith('h5'):\n",
    "        model.save(filepath)\n",
    "    elif filename.endswith('json'):\n",
    "        model.to_json(filepath)\n",
    "\n",
    "from keras import models\n",
    "\n",
    "def load_model(filename):\n",
    "    Model = os.path.join(os.getcwd(), 'Models')\n",
    "    filepath = os.path.join(Model, filename)\n",
    "    model = None\n",
    "    if filename.endswith('h5'):\n",
    "        model = models.load_model(filepath)\n",
    "    elif filename.endswith('json'):\n",
    "        with open('model.json', 'r') as json_file:\n",
    "            loaded_model_json = json_file.read()           \n",
    "            model = models.model_from_json(loaded_model_json)\n",
    "    return model\n"
   ]
  },
  {
   "cell_type": "code",
   "execution_count": 45,
   "metadata": {
    "collapsed": false
   },
   "outputs": [],
   "source": [
    "save_model(model, 'cnn from scratch with softmax 50epoch hit 60.60% acc.h5')"
   ]
  },
  {
   "cell_type": "code",
   "execution_count": 50,
   "metadata": {
    "collapsed": false
   },
   "outputs": [
    {
     "name": "stdout",
     "output_type": "stream",
     "text": [
      "Found 3589 images belonging to 7 classes.\n",
      "the accuracy of test data from scratch without data augment: 0.616327667874\n"
     ]
    }
   ],
   "source": [
    "model = load_model('softmax_crossentropy_60epoch_dropout(0.5)1024hit(0.6163).h5')  # load the 62.63% model, not just trained\n",
    "predict = evaluate_model(model=model)\n",
    "print('the accuracy of test data from scratch without data augment:', predict[1])"
   ]
  },
  {
   "cell_type": "markdown",
   "metadata": {},
   "source": [
    "### Using data augmentation"
   ]
  },
  {
   "cell_type": "code",
   "execution_count": 52,
   "metadata": {
    "collapsed": false
   },
   "outputs": [
    {
     "name": "stdout",
     "output_type": "stream",
     "text": [
      "Found 28709 images belonging to 7 classes.\n",
      "Found 3589 images belonging to 7 classes.\n"
     ]
    }
   ],
   "source": [
    "from keras import layers\n",
    "from keras import models\n",
    "from keras.layers.normalization import BatchNormalization\n",
    "from keras.layers import Activation\n",
    "from keras.layers.advanced_activations import PReLU\n",
    "\n",
    "# act = PReLU(init='zero', weights=None)\n",
    "# conv  block 1\n",
    "model = models.Sequential()\n",
    "model.add(layers.Conv2D(32, (3, 3), input_shape=(48, 48, 1), activation='relu'))\n",
    "model.add(BatchNormalization(axis=-1))\n",
    "model.add(layers.Conv2D(32, (3, 3), activation='relu'))\n",
    "model.add(BatchNormalization(axis=-1))\n",
    "model.add(layers.MaxPooling2D((2, 2)))\n",
    "model.add(layers.Dropout(0.25))\n",
    "# conv  block 2\n",
    "model.add(layers.Conv2D(64, (3, 3), activation='relu'))\n",
    "model.add(BatchNormalization(axis=-1))\n",
    "model.add(layers.Conv2D(64, (3, 3), activation='relu'))      \n",
    "model.add(BatchNormalization(axis=-1))\n",
    "model.add(layers.MaxPooling2D((2, 2)))\n",
    "model.add(layers.Dropout(0.25))\n",
    "# conv  block 3\n",
    "model.add(layers.Conv2D(128, (3, 3), activation='relu'))\n",
    "model.add(BatchNormalization(axis=-1))\n",
    "model.add(layers.MaxPooling2D((2, 2)))\n",
    "\n",
    "model.add(layers.Flatten())\n",
    "model.add(layers.Dropout(0.5))\n",
    "model.add(layers.Dense(1024, activation='relu'))\n",
    "model.add(layers.Dense(7, activation='softmax'))\n",
    "\n",
    "train_generator = image_data_generator(train_dir, data_augment=True)\n",
    "validation_generator = image_data_generator(validation_dir)"
   ]
  },
  {
   "cell_type": "code",
   "execution_count": 53,
   "metadata": {
    "collapsed": false
   },
   "outputs": [
    {
     "name": "stdout",
     "output_type": "stream",
     "text": [
      "Epoch 1/50\n",
      "1400/1400 [==============================] - 77s 55ms/step - loss: 2.1357 - acc: 0.2149 - val_loss: 1.8418 - val_acc: 0.2670\n",
      "Epoch 2/50\n",
      "1400/1400 [==============================] - 76s 54ms/step - loss: 1.8846 - acc: 0.2376 - val_loss: 2.0003 - val_acc: 0.2849\n",
      "Epoch 3/50\n",
      "1400/1400 [==============================] - 75s 53ms/step - loss: 1.8268 - acc: 0.2591 - val_loss: 3.0773 - val_acc: 0.2712\n",
      "Epoch 4/50\n",
      "1400/1400 [==============================] - 75s 54ms/step - loss: 1.8014 - acc: 0.2702 - val_loss: 3.3321 - val_acc: 0.2911\n",
      "Epoch 5/50\n",
      "1400/1400 [==============================] - 75s 54ms/step - loss: 1.7704 - acc: 0.2891 - val_loss: 2.4100 - val_acc: 0.3201\n",
      "Epoch 6/50\n",
      "1400/1400 [==============================] - 75s 53ms/step - loss: 1.7615 - acc: 0.2955 - val_loss: 2.5336 - val_acc: 0.3385\n",
      "Epoch 7/50\n",
      "1400/1400 [==============================] - 75s 53ms/step - loss: 1.7457 - acc: 0.3054 - val_loss: 1.8369 - val_acc: 0.3567\n",
      "Epoch 8/50\n",
      "1400/1400 [==============================] - 75s 54ms/step - loss: 1.7357 - acc: 0.3142 - val_loss: 1.7119 - val_acc: 0.3721\n",
      "Epoch 9/50\n",
      "1400/1400 [==============================] - 75s 54ms/step - loss: 1.7200 - acc: 0.3218 - val_loss: 1.6519 - val_acc: 0.3763\n",
      "Epoch 10/50\n",
      "1400/1400 [==============================] - 75s 54ms/step - loss: 1.6934 - acc: 0.3393 - val_loss: 1.6406 - val_acc: 0.3978\n",
      "Epoch 11/50\n",
      "1400/1400 [==============================] - 75s 54ms/step - loss: 1.6918 - acc: 0.3348 - val_loss: 1.6939 - val_acc: 0.4095\n",
      "Epoch 12/50\n",
      "1400/1400 [==============================] - 75s 53ms/step - loss: 1.6765 - acc: 0.3504 - val_loss: 1.6936 - val_acc: 0.4223\n",
      "Epoch 13/50\n",
      "1400/1400 [==============================] - 74s 53ms/step - loss: 1.6516 - acc: 0.3585 - val_loss: 1.6103 - val_acc: 0.4344\n",
      "Epoch 14/50\n",
      "1400/1400 [==============================] - 74s 53ms/step - loss: 1.6413 - acc: 0.3690 - val_loss: 1.5290 - val_acc: 0.4279\n",
      "Epoch 15/50\n",
      "1400/1400 [==============================] - 75s 54ms/step - loss: 1.6232 - acc: 0.3729 - val_loss: 1.4223 - val_acc: 0.4612\n",
      "Epoch 16/50\n",
      "1400/1400 [==============================] - 75s 54ms/step - loss: 1.6098 - acc: 0.3789 - val_loss: 1.4934 - val_acc: 0.4475\n",
      "Epoch 17/50\n",
      "1400/1400 [==============================] - 75s 54ms/step - loss: 1.6120 - acc: 0.3815 - val_loss: 1.4281 - val_acc: 0.4830\n",
      "Epoch 18/50\n",
      "1400/1400 [==============================] - 76s 54ms/step - loss: 1.5901 - acc: 0.3924 - val_loss: 1.5284 - val_acc: 0.4542\n",
      "Epoch 19/50\n",
      "1400/1400 [==============================] - 75s 54ms/step - loss: 1.5778 - acc: 0.3924 - val_loss: 1.4244 - val_acc: 0.4584\n",
      "Epoch 20/50\n",
      "1400/1400 [==============================] - 76s 54ms/step - loss: 1.5751 - acc: 0.3962 - val_loss: 1.3927 - val_acc: 0.4712\n",
      "Epoch 21/50\n",
      "1400/1400 [==============================] - 75s 54ms/step - loss: 1.5565 - acc: 0.4095 - val_loss: 1.3777 - val_acc: 0.4637\n",
      "Epoch 22/50\n",
      "1400/1400 [==============================] - 76s 54ms/step - loss: 1.5501 - acc: 0.4080 - val_loss: 1.3820 - val_acc: 0.4796\n",
      "Epoch 23/50\n",
      "1400/1400 [==============================] - 75s 54ms/step - loss: 1.5352 - acc: 0.4156 - val_loss: 1.3375 - val_acc: 0.4721\n",
      "Epoch 24/50\n",
      "1400/1400 [==============================] - 76s 55ms/step - loss: 1.5424 - acc: 0.4138 - val_loss: 1.4092 - val_acc: 0.4662\n",
      "Epoch 25/50\n",
      "1400/1400 [==============================] - 75s 54ms/step - loss: 1.5265 - acc: 0.4203 - val_loss: 1.3578 - val_acc: 0.4802\n",
      "Epoch 26/50\n",
      "1400/1400 [==============================] - 76s 54ms/step - loss: 1.5236 - acc: 0.4219 - val_loss: 1.3275 - val_acc: 0.5000\n",
      "Epoch 27/50\n",
      "1400/1400 [==============================] - 75s 54ms/step - loss: 1.5082 - acc: 0.4253 - val_loss: 1.3338 - val_acc: 0.4802\n",
      "Epoch 28/50\n",
      "1400/1400 [==============================] - 76s 54ms/step - loss: 1.5057 - acc: 0.4269 - val_loss: 1.3065 - val_acc: 0.5000\n",
      "Epoch 29/50\n",
      "1400/1400 [==============================] - 76s 54ms/step - loss: 1.5047 - acc: 0.4302 - val_loss: 1.3281 - val_acc: 0.4961\n",
      "Epoch 30/50\n",
      "1400/1400 [==============================] - 76s 54ms/step - loss: 1.4901 - acc: 0.4345 - val_loss: 1.2879 - val_acc: 0.5087\n",
      "Epoch 31/50\n",
      "1400/1400 [==============================] - 75s 54ms/step - loss: 1.4883 - acc: 0.4345 - val_loss: 1.2949 - val_acc: 0.5059\n",
      "Epoch 32/50\n",
      "1400/1400 [==============================] - 73s 52ms/step - loss: 1.4815 - acc: 0.4364 - val_loss: 1.3091 - val_acc: 0.4916\n",
      "Epoch 33/50\n",
      "1400/1400 [==============================] - 65s 47ms/step - loss: 1.4749 - acc: 0.4398 - val_loss: 1.2722 - val_acc: 0.5235\n",
      "Epoch 34/50\n",
      "1400/1400 [==============================] - 65s 47ms/step - loss: 1.4639 - acc: 0.4476 - val_loss: 1.3237 - val_acc: 0.5056\n",
      "Epoch 35/50\n",
      "1400/1400 [==============================] - 66s 47ms/step - loss: 1.4671 - acc: 0.4478 - val_loss: 1.2765 - val_acc: 0.5168\n",
      "Epoch 36/50\n",
      "1400/1400 [==============================] - 65s 47ms/step - loss: 1.4579 - acc: 0.4503 - val_loss: 1.2891 - val_acc: 0.5162\n",
      "Epoch 37/50\n",
      "1400/1400 [==============================] - 66s 47ms/step - loss: 1.4571 - acc: 0.4503 - val_loss: 1.3034 - val_acc: 0.5006\n",
      "Epoch 38/50\n",
      "1400/1400 [==============================] - 66s 47ms/step - loss: 1.4425 - acc: 0.4542 - val_loss: 1.3254 - val_acc: 0.4955\n",
      "Epoch 39/50\n",
      "1400/1400 [==============================] - 67s 48ms/step - loss: 1.4393 - acc: 0.4545 - val_loss: 1.2665 - val_acc: 0.5260\n",
      "Epoch 40/50\n",
      "1400/1400 [==============================] - 60s 43ms/step - loss: 1.4426 - acc: 0.4559 - val_loss: 1.2593 - val_acc: 0.5240\n",
      "Epoch 41/50\n",
      "1400/1400 [==============================] - 60s 43ms/step - loss: 1.4314 - acc: 0.4574 - val_loss: 1.2916 - val_acc: 0.5120\n",
      "Epoch 42/50\n",
      "1400/1400 [==============================] - 60s 43ms/step - loss: 1.4311 - acc: 0.4546 - val_loss: 1.3199 - val_acc: 0.4983\n",
      "Epoch 43/50\n",
      "1400/1400 [==============================] - 61s 43ms/step - loss: 1.4193 - acc: 0.4636 - val_loss: 1.2532 - val_acc: 0.5190\n",
      "Epoch 44/50\n",
      "1400/1400 [==============================] - 62s 44ms/step - loss: 1.4231 - acc: 0.4624 - val_loss: 1.2906 - val_acc: 0.5084\n",
      "Epoch 45/50\n",
      "1400/1400 [==============================] - 61s 43ms/step - loss: 1.4133 - acc: 0.4658 - val_loss: 1.3401 - val_acc: 0.4869\n",
      "Epoch 46/50\n",
      "1400/1400 [==============================] - 60s 43ms/step - loss: 1.4263 - acc: 0.4635 - val_loss: 1.2663 - val_acc: 0.5142\n",
      "Epoch 47/50\n",
      "1400/1400 [==============================] - 61s 43ms/step - loss: 1.4047 - acc: 0.4686 - val_loss: 1.2797 - val_acc: 0.5078\n",
      "Epoch 48/50\n",
      "1400/1400 [==============================] - 60s 43ms/step - loss: 1.4130 - acc: 0.4649 - val_loss: 1.2545 - val_acc: 0.5268\n",
      "Epoch 49/50\n",
      "1400/1400 [==============================] - 61s 43ms/step - loss: 1.4073 - acc: 0.4709 - val_loss: 1.2639 - val_acc: 0.5209\n",
      "Epoch 50/50\n",
      "1400/1400 [==============================] - 61s 43ms/step - loss: 1.4113 - acc: 0.4683 - val_loss: 1.2581 - val_acc: 0.5131\n"
     ]
    }
   ],
   "source": [
    "\n",
    "model.compile(loss='categorical_crossentropy',\n",
    "             optimizer=optimizers.RMSprop(lr=1e-4, decay=1e-6),\n",
    "             metrics=['acc'])\n",
    "\n",
    "history = model.fit_generator(train_generator,\n",
    "                   steps_per_epoch=1400,\n",
    "                   epochs=50,\n",
    "                   validation_data=validation_generator,\n",
    "                   validation_steps=179)"
   ]
  },
  {
   "cell_type": "code",
   "execution_count": 54,
   "metadata": {
    "collapsed": false
   },
   "outputs": [
    {
     "name": "stdout",
     "output_type": "stream",
     "text": [
      "Found 3589 images belonging to 7 classes.\n",
      "the accuracy of test data from scratch with data augment: 0.536918361661\n"
     ]
    }
   ],
   "source": [
    "predict = evaluate_model(model=model)\n",
    "print('the accuracy of test data from scratch with data augment:', predict[1])"
   ]
  },
  {
   "cell_type": "code",
   "execution_count": 57,
   "metadata": {
    "collapsed": false
   },
   "outputs": [
    {
     "data": {
      "image/png": "[encoded data removed]",
      "text/plain": [
       "<matplotlib.figure.Figure at 0x689b1a20>"
      ]
     },
     "metadata": {},
     "output_type": "display_data"
    },
    {
     "data": {
      "image/png": "[encoded data removed]",
      "text/plain": [
       "<matplotlib.figure.Figure at 0x689bcda0>"
      ]
     },
     "metadata": {},
     "output_type": "display_data"
    },
    {
     "data": {
      "image/png": "[encoded data removed]",
      "text/plain": [
       "<matplotlib.figure.Figure at 0x80037400>"
      ]
     },
     "metadata": {},
     "output_type": "display_data"
    }
   ],
   "source": [
    "err_emotions = evaluate_emotions_error_rate(model)\n",
    "plt_emotions(err_emotions, 'error rate in each emotion with shallow neural nets(data augment)')\n",
    "plt_acc_loss(history, 'cnn_from_scratch_accuracy', 'cnn_from_scratch_loss', \n",
    "             'cnn_from_scratch_accuracy(data augment53.69%).png', 'cnn_from_scratch_loss(data augment53.69%).png')"
   ]
  },
  {
   "cell_type": "code",
   "execution_count": 59,
   "metadata": {
    "collapsed": false
   },
   "outputs": [],
   "source": [
    "save_model(model, 'cnn from scratch with softmax(data augment) 50epoch hit %.2f%% acc.h5' % (predict[1] * 100))"
   ]
  }
 ],
 "metadata": {
  "anaconda-cloud": {},
  "kernelspec": {
   "display_name": "Python [default]",
   "language": "python",
   "name": "python3"
  },
  "language_info": {
   "codemirror_mode": {
    "name": "ipython",
    "version": 3
   },
   "file_extension": ".py",
   "mimetype": "text/x-python",
   "name": "python",
   "nbconvert_exporter": "python",
   "pygments_lexer": "ipython3",
   "version": "3.5.4"
  }
 },
 "nbformat": 4,
 "nbformat_minor": 2
}
